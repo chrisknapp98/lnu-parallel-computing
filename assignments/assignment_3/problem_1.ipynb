{
 "cells": [
  {
   "cell_type": "markdown",
   "metadata": {},
   "source": [
    "# Parallel"
   ]
  },
  {
   "cell_type": "code",
   "execution_count": null,
   "metadata": {},
   "outputs": [],
   "source": [
    "import time\n",
    "import cupy as cp\n",
    "import numpy as np\n",
    "\n",
    "def bailey_borwein_plouf(k):\n",
    "    term1 = 4 / (8 * k + 1)\n",
    "    term2 = 2 / (8 * k + 4)\n",
    "    term3 = 1 / (8 * k + 5)\n",
    "    term4 = 1 / (8 * k + 6)\n",
    "    term = term1 - term2 - term3 - term4\n",
    "    term = term * (1/16)**k\n",
    "    return term\n",
    "\n",
    "def run_and_test_scalability(terms):\n",
    "    for term in terms:\n",
    "        start_time = time.time()\n",
    "\n",
    "        k_values = cp.arange(term)\n",
    "        bbp_values = bailey_borwein_plouf(k_values)\n",
    "        pi = cp.sum(bbp_values).get()\n",
    "\n",
    "        end_time = time.time()\n",
    "\n",
    "        execution_time = \"{:.3f}\".format((end_time - start_time) * 1000)\n",
    "        print(\"Terms: \", term, \", Execution time: \", execution_time, \" ms, Pi approximation: \", pi)\n",
    "\n",
    "\n",
    "if __name__ == \"__main__\":\n",
    "    terms = [100000, 1000000, 10000000, 100000000]\n",
    "\n",
    "    run_and_test_scalability(terms)"
   ]
  },
  {
   "cell_type": "markdown",
   "metadata": {},
   "source": [
    "# Sequential"
   ]
  },
  {
   "cell_type": "code",
   "execution_count": null,
   "metadata": {},
   "outputs": [],
   "source": [
    "def bailey_borwein_plouf(k):\n",
    "    term1 = 4 / (8 * k + 1)\n",
    "    term2 = 2 / (8 * k + 4)\n",
    "    term3 = 1 / (8 * k + 5)\n",
    "    term4 = 1 / (8 * k + 6)\n",
    "    term = term1 - term2 - term3 - term4\n",
    "    term = term * (1/16)**k\n",
    "    return term\n",
    "\n",
    "def run_and_test_scalability(terms):\n",
    "    for term in terms:\n",
    "        start_time = time.time()\n",
    "\n",
    "        k_values = np.arange(term)\n",
    "        bbp_values = bailey_borwein_plouf(k_values)\n",
    "        pi = np.sum(bbp_values)\n",
    "\n",
    "        end_time = time.time()\n",
    "\n",
    "        execution_time = \"{:.3f}\".format((end_time - start_time) * 1000)\n",
    "        print(\"Terms: \", term, \", Execution time: \", execution_time, \" ms, Pi approximation: \", pi)\n",
    "\n",
    "\n",
    "if __name__ == \"__main__\":\n",
    "    terms = [100000, 1000000, 10000000, 100000000]\n",
    "\n",
    "    run_and_test_scalability(terms)"
   ]
  }
 ],
 "metadata": {
  "kernelspec": {
   "display_name": "base",
   "language": "python",
   "name": "python3"
  },
  "language_info": {
   "codemirror_mode": {
    "name": "ipython",
    "version": 3
   },
   "file_extension": ".py",
   "mimetype": "text/x-python",
   "name": "python",
   "nbconvert_exporter": "python",
   "pygments_lexer": "ipython3",
   "version": "3.11.5"
  }
 },
 "nbformat": 4,
 "nbformat_minor": 2
}
